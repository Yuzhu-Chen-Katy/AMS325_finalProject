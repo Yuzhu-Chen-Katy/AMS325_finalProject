{
 "cells": [
  {
   "cell_type": "code",
   "execution_count": 12,
   "id": "ce3b4d0f",
   "metadata": {},
   "outputs": [],
   "source": [
    "import pandas as pd\n",
    "\n",
    "# Load your CSV file into a pandas DataFrame\n",
    "file_path = 'C:/Users/katyc/Downloads/data.csv'  # Replace with the actual path to your CSV file\n",
    "df = pd.read_csv(file_path)\n",
    "\n",
    "# Define a mapping from labels to numerical values\n",
    "label_mapping = {\n",
    "    'blues': 0,\n",
    "    'classical': 1,\n",
    "    'country': 2,\n",
    "    'disco': 3,\n",
    "    'hiphop': 4,\n",
    "    'jazz': 5,\n",
    "    'metal': 6,\n",
    "    'pop': 7,\n",
    "    'reggae': 8,\n",
    "    'rock': 9\n",
    "}\n",
    "\n",
    "# Map the labels column to numerical values using the mapping\n",
    "df['label'] = df['label'].str.lower().map(label_mapping)\n",
    "\n",
    "# Save the modified DataFrame back to a CSV file\n",
    "df.to_csv('C:/Users/katyc/Downloads/relabeled_data.csv', index=False)  # Replace with the desired output file path\n"
   ]
  },
  {
   "cell_type": "code",
   "execution_count": null,
   "id": "0062466e",
   "metadata": {},
   "outputs": [],
   "source": []
  }
 ],
 "metadata": {
  "kernelspec": {
   "display_name": "Python 3 (ipykernel)",
   "language": "python",
   "name": "python3"
  },
  "language_info": {
   "codemirror_mode": {
    "name": "ipython",
    "version": 3
   },
   "file_extension": ".py",
   "mimetype": "text/x-python",
   "name": "python",
   "nbconvert_exporter": "python",
   "pygments_lexer": "ipython3",
   "version": "3.11.4"
  }
 },
 "nbformat": 4,
 "nbformat_minor": 5
}
